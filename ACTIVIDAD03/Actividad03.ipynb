{
  "nbformat": 4,
  "nbformat_minor": 0,
  "metadata": {
    "colab": {
      "name": "Actividad03.ipynb",
      "provenance": []
    },
    "kernelspec": {
      "name": "python3",
      "display_name": "Python 3"
    },
    "language_info": {
      "name": "python"
    }
  },
  "cells": [
    {
      "cell_type": "markdown",
      "metadata": {
        "id": "9wCHjGFyIgiL"
      },
      "source": [
        "#**Area: Mineria de datos**\n",
        "\n"
      ]
    },
    {
      "cell_type": "markdown",
      "metadata": {
        "id": "ICi33DWqIgPi"
      },
      "source": [
        "#**Alumno: Victor Pool Huillca Herrera**\n",
        "\n",
        "#**Codigo: 163845**\n",
        "\n"
      ]
    },
    {
      "cell_type": "markdown",
      "metadata": {
        "id": "lgNS7SdPI8EV"
      },
      "source": [
        "**Instalacion de librerias**"
      ]
    },
    {
      "cell_type": "code",
      "metadata": {
        "colab": {
          "base_uri": "https://localhost:8080/"
        },
        "id": "ABLlw-HMGzWG",
        "outputId": "cceac24c-f863-40dc-dbef-4b813326164c"
      },
      "source": [
        "!pip install numpy\n",
        "!pip install more-itertools"
      ],
      "execution_count": 106,
      "outputs": [
        {
          "output_type": "stream",
          "name": "stdout",
          "text": [
            "Requirement already satisfied: numpy in /usr/local/lib/python3.7/dist-packages (1.19.5)\n",
            "Requirement already satisfied: more-itertools in /usr/local/lib/python3.7/dist-packages (8.11.0)\n"
          ]
        }
      ]
    },
    {
      "cell_type": "markdown",
      "metadata": {
        "id": "j0sHqRA9JIkJ"
      },
      "source": [
        "**Importamos las siguientes librerias para el funcionamiento del programa**"
      ]
    },
    {
      "cell_type": "code",
      "metadata": {
        "id": "LPhB6WSLG-xb"
      },
      "source": [
        "import numpy as np\n",
        "from numpy import *\n",
        "import itertools"
      ],
      "execution_count": 107,
      "outputs": []
    },
    {
      "cell_type": "markdown",
      "metadata": {
        "id": "E1wLQmNrJZZg"
      },
      "source": [
        "**Cargamos los datos proporcionados**"
      ]
    },
    {
      "cell_type": "code",
      "metadata": {
        "id": "oOiIHNMVHCN5"
      },
      "source": [
        "playlists_numpy = np.load('spotify.npy',allow_pickle=True)"
      ],
      "execution_count": 108,
      "outputs": []
    },
    {
      "cell_type": "markdown",
      "metadata": {
        "id": "J0FjnWB0Jnm1"
      },
      "source": [
        "**Definimos los valores el min_support y el min_confidence**"
      ]
    },
    {
      "cell_type": "code",
      "metadata": {
        "id": "KcMryfG1HCtx"
      },
      "source": [
        "min_support = 3 \n",
        "min_confidence = 0.6 "
      ],
      "execution_count": 109,
      "outputs": []
    },
    {
      "cell_type": "markdown",
      "metadata": {
        "id": "p0RqEBP-J_Yw"
      },
      "source": [
        "**En esta parte mostramos la lista de playlists en formato lista de python**"
      ]
    },
    {
      "cell_type": "code",
      "metadata": {
        "id": "i9MFtQEvHDCZ"
      },
      "source": [
        "playlists = list(playlists_numpy.item().values())\n",
        "playlists = playlists[:100]"
      ],
      "execution_count": 110,
      "outputs": []
    },
    {
      "cell_type": "code",
      "metadata": {
        "id": "pK6UJePXHDch"
      },
      "source": [
        "songs1 = set() "
      ],
      "execution_count": 111,
      "outputs": []
    },
    {
      "cell_type": "markdown",
      "metadata": {
        "id": "RjzHzrvmKR90"
      },
      "source": [
        "**En esta seccion creamos un conjunto para eliminar repetidos y obtener todas las canciones**"
      ]
    },
    {
      "cell_type": "code",
      "metadata": {
        "id": "AnB5530oHy6i"
      },
      "source": [
        "for each_list in playlists:\n",
        "    for song in each_list:\n",
        "        songs1.add(song)"
      ],
      "execution_count": 112,
      "outputs": []
    },
    {
      "cell_type": "markdown",
      "metadata": {
        "id": "ojrMzSTnKbTR"
      },
      "source": [
        "**Para un mejor uso lo convertimos a una lista**"
      ]
    },
    {
      "cell_type": "code",
      "metadata": {
        "colab": {
          "base_uri": "https://localhost:8080/"
        },
        "id": "MxL7Rt59HzYJ",
        "outputId": "00775f6b-87e7-4f5d-a52d-91959e9cd465"
      },
      "source": [
        "songs1 = sorted(list(songs1))\n",
        "print(\"Antes: \",len(songs1))"
      ],
      "execution_count": 122,
      "outputs": [
        {
          "output_type": "stream",
          "name": "stdout",
          "text": [
            "Antes:  183\n"
          ]
        }
      ]
    },
    {
      "cell_type": "markdown",
      "metadata": {
        "id": "wP2Tm_18KlJp"
      },
      "source": [
        "**Declaramos un diccionario vacio para determinar sus counts de cada cancion**"
      ]
    },
    {
      "cell_type": "code",
      "metadata": {
        "id": "QG-tX7x7HztB"
      },
      "source": [
        "dic_s1 = {}\n",
        "for i in songs1:\n",
        "    dic_s1[i] = 0"
      ],
      "execution_count": 114,
      "outputs": []
    },
    {
      "cell_type": "markdown",
      "metadata": {
        "id": "IrnhjWOvKsSB"
      },
      "source": [
        "**Agregamos el count de cada cancion luego de buscar en la lista de canciones**"
      ]
    },
    {
      "cell_type": "code",
      "metadata": {
        "id": "A2oJn678H0Ch"
      },
      "source": [
        "for list_rep in playlists:\n",
        "    for i in list_rep:\n",
        "        dic_s1[i] += 1"
      ],
      "execution_count": 115,
      "outputs": []
    },
    {
      "cell_type": "markdown",
      "metadata": {
        "id": "ShZX-k_fKyJh"
      },
      "source": [
        "**Hacemos un filtrado de las canciones que no pasen el min_support para L1**"
      ]
    },
    {
      "cell_type": "code",
      "metadata": {
        "id": "-KFZR9-4H0XR"
      },
      "source": [
        "songs2_ = []\n",
        "for song in songs1:\n",
        "    if dic_s1[song] < min_support:\n",
        "        del dic_s1[song]\n",
        "songs1 = list(dic_s1.keys())\n",
        "songs1 = sorted(songs1)"
      ],
      "execution_count": 116,
      "outputs": []
    },
    {
      "cell_type": "markdown",
      "metadata": {
        "id": "uyWsCasCK6Jy"
      },
      "source": [
        "**Imprimimos la cantidad de canciones con la que nos quedamos en c1**"
      ]
    },
    {
      "cell_type": "code",
      "metadata": {
        "colab": {
          "base_uri": "https://localhost:8080/"
        },
        "id": "Pf6yYCZ9IBAh",
        "outputId": "1f1ee0d6-6bf0-41de-c338-abe5ece39a1c"
      },
      "source": [
        "print(\"Despues: \",len(songs1)) "
      ],
      "execution_count": 123,
      "outputs": [
        {
          "output_type": "stream",
          "name": "stdout",
          "text": [
            "Despues:  183\n"
          ]
        }
      ]
    },
    {
      "cell_type": "markdown",
      "metadata": {
        "id": "4XtmBrmHLA0J"
      },
      "source": [
        "**Hacemos la combinatoria usando itertools para llegar a C2**"
      ]
    },
    {
      "cell_type": "code",
      "metadata": {
        "id": "kaD26iTuIBUp"
      },
      "source": [
        "songs2 = list(itertools.combinations(songs1,2))"
      ],
      "execution_count": 118,
      "outputs": []
    },
    {
      "cell_type": "markdown",
      "metadata": {
        "id": "k5roouhXLGhh"
      },
      "source": [
        "**Declaramos un diccionario para -> L1**"
      ]
    },
    {
      "cell_type": "code",
      "metadata": {
        "id": "0scoLHDFIOHg"
      },
      "source": [
        "dic_s2 = {}\n",
        "for i in songs2:\n",
        "    dic_s2[i] = 0"
      ],
      "execution_count": 119,
      "outputs": []
    },
    {
      "cell_type": "markdown",
      "metadata": {
        "id": "jzfurzktLL8g"
      },
      "source": [
        "**Para esta seccion tenemos que hacer la cuenta de los counts de cada tupla**"
      ]
    },
    {
      "cell_type": "code",
      "metadata": {
        "id": "uKzMH_P4INj5"
      },
      "source": [
        "for list_rep in playlists:\n",
        "    for tup in songs2:\n",
        "        count = 0\n",
        "        for song in tup:\n",
        "            if song in list_rep:\n",
        "                count += 1\n",
        "            if count == 2:\n",
        "                dic_s2[tup] += 1"
      ],
      "execution_count": 120,
      "outputs": []
    },
    {
      "cell_type": "markdown",
      "metadata": {
        "id": "Go7S-QK4LR1h"
      },
      "source": [
        "**Luego imprimimos todas las tuplas que superan el min_support**"
      ]
    },
    {
      "cell_type": "code",
      "metadata": {
        "colab": {
          "base_uri": "https://localhost:8080/"
        },
        "id": "q-noamRzIN25",
        "outputId": "1dd5f511-a2d1-4eb5-b74b-0665f84a647e"
      },
      "source": [
        "list_rep = []\n",
        "for tup in dic_s2:\n",
        "    if dic_s2[tup] < 3:        \n",
        "        list_rep.append(tup)        \n",
        "\n",
        "for i in list_rep:\n",
        "    del dic_s2[i]\n",
        "\n",
        "for song in dic_s2:\n",
        "    print(song,' -> ',dic_s2[song])"
      ],
      "execution_count": 121,
      "outputs": [
        {
          "output_type": "stream",
          "name": "stdout",
          "text": [
            "('1-800-273-8255', \"It's A Vibe\")  ->  3\n",
            "('1-800-273-8255', 'goosebumps')  ->  3\n",
            "(\"Ain't No Mountain High Enough\", 'My Girl')  ->  3\n",
            "(\"Ain't No Mountain High Enough\", 'Spirit In The Sky')  ->  3\n",
            "('All I Want', 'Chasing Cars')  ->  3\n",
            "('All I Want', 'Like Real People Do')  ->  3\n",
            "('Blood', 'Gravity')  ->  3\n",
            "('Bohemian Rhapsody - Remastered 2011', 'Gimme Shelter')  ->  3\n",
            "('Bohemian Rhapsody - Remastered 2011', 'Sympathy For The Devil')  ->  3\n",
            "('Bounce', 'Congratulations')  ->  3\n",
            "('Bounce', 'goosebumps')  ->  3\n",
            "('Bounce Back', 'Congratulations')  ->  3\n",
            "('Bounce Back', 'THat Part')  ->  3\n",
            "('Bounce Back', 'goosebumps')  ->  3\n",
            "('Congratulations', 'Losin Control')  ->  3\n",
            "('Congratulations', 'THat Part')  ->  3\n",
            "('Congratulations', 'goosebumps')  ->  4\n",
            "('Deja Vu', 'THat Part')  ->  3\n",
            "('Deja Vu', 'XO TOUR Llif3')  ->  3\n",
            "('Deja Vu', 'goosebumps')  ->  3\n",
            "('Drama (feat. Drake)', 'Exchange')  ->  3\n",
            "('Free Bird', 'Sympathy For The Devil')  ->  3\n",
            "('Gimme Shelter', 'Sympathy For The Devil')  ->  3\n",
            "('I Fall Apart', 'Same Drugs')  ->  3\n",
            "('I Want You Back', 'My Girl')  ->  3\n",
            "('Issues', 'Losin Control')  ->  3\n",
            "('Let Me Explain', 'Right My Wrongs')  ->  3\n",
            "('Losin Control', 'What They Want')  ->  3\n",
            "('Losin Control', 'goosebumps')  ->  3\n",
            "('My Girl', 'Spirit In The Sky')  ->  3\n",
            "('No Role Modelz', 'Stronger')  ->  3\n",
            "('THat Part', 'XO TOUR Llif3')  ->  3\n",
            "('THat Part', 'goosebumps')  ->  4\n",
            "('XO TOUR Llif3', 'goosebumps')  ->  3\n"
          ]
        }
      ]
    }
  ]
}