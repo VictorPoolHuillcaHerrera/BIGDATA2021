{
  "nbformat": 4,
  "nbformat_minor": 0,
  "metadata": {
    "colab": {
      "name": "5_Ejercicios_Procesamiento_PySpark.ipynb",
      "provenance": []
    },
    "kernelspec": {
      "name": "python3",
      "display_name": "Python 3"
    },
    "language_info": {
      "name": "python"
    }
  },
  "cells": [
    {
      "cell_type": "markdown",
      "source": [
        "#**Area: Mineria de Datos**\n",
        "\n",
        "#**Procesamiento con PySpark**"
      ],
      "metadata": {
        "id": "DlgjWU2WBpKq"
      }
    },
    {
      "cell_type": "markdown",
      "source": [
        "#**Alumno: Huillca Herrera Victor Pool**\n",
        "\n",
        "#**Codigo: 163845**"
      ],
      "metadata": {
        "id": "sRapDJX9Bpjh"
      }
    },
    {
      "cell_type": "markdown",
      "source": [
        "#Libreria necesaria para la ejecucion del programa"
      ],
      "metadata": {
        "id": "nfYwpPYiB71B"
      }
    },
    {
      "cell_type": "code",
      "execution_count": null,
      "metadata": {
        "colab": {
          "base_uri": "https://localhost:8080/"
        },
        "id": "COVUQAAjBltb",
        "outputId": "9b3461da-a0ad-493b-8dd3-639c161bd3db"
      },
      "outputs": [
        {
          "output_type": "stream",
          "name": "stdout",
          "text": [
            "Collecting pyspark\n",
            "  Downloading pyspark-3.2.0.tar.gz (281.3 MB)\n",
            "\u001b[K     |████████████████████████████████| 281.3 MB 46 kB/s \n",
            "\u001b[?25hCollecting py4j==0.10.9.2\n",
            "  Downloading py4j-0.10.9.2-py2.py3-none-any.whl (198 kB)\n",
            "\u001b[K     |████████████████████████████████| 198 kB 70.3 MB/s \n",
            "\u001b[?25hBuilding wheels for collected packages: pyspark\n",
            "  Building wheel for pyspark (setup.py) ... \u001b[?25l\u001b[?25hdone\n",
            "  Created wheel for pyspark: filename=pyspark-3.2.0-py2.py3-none-any.whl size=281805912 sha256=674d16e7c679a1df6788269a392fcbb8042fe402fe60524e64fdf53e3c2c9245\n",
            "  Stored in directory: /root/.cache/pip/wheels/0b/de/d2/9be5d59d7331c6c2a7c1b6d1a4f463ce107332b1ecd4e80718\n",
            "Successfully built pyspark\n",
            "Installing collected packages: py4j, pyspark\n",
            "Successfully installed py4j-0.10.9.2 pyspark-3.2.0\n"
          ]
        }
      ],
      "source": [
        "!pip install pyspark"
      ]
    },
    {
      "cell_type": "markdown",
      "source": [
        "Permitamos la manipulacion y creacion de RDDs"
      ],
      "metadata": {
        "id": "ksdYmz8OCCnD"
      }
    },
    {
      "cell_type": "code",
      "source": [
        "from pyspark import SparkContext\n",
        "sc =SparkContext() "
      ],
      "metadata": {
        "id": "r8Mq6NRCCDtL"
      },
      "execution_count": null,
      "outputs": []
    },
    {
      "cell_type": "markdown",
      "source": [
        "#1.-Distancia de Minkowski"
      ],
      "metadata": {
        "id": "0kUDpXSzCHTb"
      }
    },
    {
      "cell_type": "code",
      "source": [
        "def subtraction_p(tupla,p):\n",
        "  return abs(tupla[0]-tupla[1])**p"
      ],
      "metadata": {
        "id": "xSWyuhvGCHyL"
      },
      "execution_count": null,
      "outputs": []
    },
    {
      "cell_type": "code",
      "source": [
        "# Calcular la distancia de Minkowski\n",
        "def distanceMinkowskiSpark(v1,v2,p,paticiones=4):\n",
        "  # Creamos tuplas para cada i de los vectores (v1,v2)\n",
        "  v3=list(zip( v1, v2)) \n",
        "  # Creamos el RDD  \n",
        "  coordenadasRDD=sc.parallelize(v3,paticiones)  \n",
        "  # Calculamos todos los |xi-yi|^p\n",
        "  subtraction_p_RDD=coordenadasRDD.map(lambda x: subtraction_p(x,p))\n",
        "  # Calculamos la sumatoria\n",
        "  sumRDD=subtraction_p_RDD.sum()               \n",
        "  distance=sumRDD**(1/p)                        \n",
        "  return distance"
      ],
      "metadata": {
        "id": "Q0mFYb5DCSKw"
      },
      "execution_count": null,
      "outputs": []
    },
    {
      "cell_type": "markdown",
      "source": [
        "# Ejemplo con la Distancia de Minkowski"
      ],
      "metadata": {
        "id": "pTkTAMWWCV5c"
      }
    },
    {
      "cell_type": "code",
      "source": [
        "v1=list(range(2,5))\n",
        "v2=list(range(6,9))\n",
        "p=2\n",
        "# Usando Spark \n",
        "print(\"La distancia es:\", distanceMinkowskiSpark(v1,v2,p))\n",
        "# Usando la libreria Scipy\n",
        "from scipy import spatial\n",
        "d=spatial.distance.minkowski(v1, v2, p=p, w=None)\n",
        "print(\"La distancia es :\", d)"
      ],
      "metadata": {
        "colab": {
          "base_uri": "https://localhost:8080/"
        },
        "id": "LM_AsKoRCXqh",
        "outputId": "ce846ad7-273c-4774-de1f-3340f7e786c5"
      },
      "execution_count": null,
      "outputs": [
        {
          "output_type": "stream",
          "name": "stdout",
          "text": [
            "La distancia es: 6.928203230275509\n",
            "La distancia es : 6.928203230275509\n"
          ]
        }
      ]
    },
    {
      "cell_type": "markdown",
      "source": [
        "#2.-Normalización"
      ],
      "metadata": {
        "id": "300aEDweCicB"
      }
    },
    {
      "cell_type": "code",
      "source": [
        "#Normalizar un vector\n",
        "def normalize(vector, particiones=4):\n",
        "\n",
        "  # Creamos el RDD\n",
        "  vectorRDD=sc.parallelize(vector,particiones)\n",
        "  # Calculamos el módulo del vector\n",
        "  moduloVectorRDD= (vectorRDD.map(lambda x:x**2).sum())**(1/2)\n",
        "  # Normalizamos\n",
        "  normalizeRDD=vectorRDD.map(lambda x : x/moduloVectorRDD )\n",
        "  vector_normalizado=normalizeRDD.collect()\n",
        "  return vector_normalizado"
      ],
      "metadata": {
        "id": "c5b7HvbECob6"
      },
      "execution_count": null,
      "outputs": []
    },
    {
      "cell_type": "markdown",
      "source": [
        "#Ejemplo de Normalizacion"
      ],
      "metadata": {
        "id": "XiGpoKv1CsQA"
      }
    },
    {
      "cell_type": "code",
      "source": [
        "v1=range(2,7)\n",
        "normalize(v1,5)"
      ],
      "metadata": {
        "colab": {
          "base_uri": "https://localhost:8080/"
        },
        "id": "I0IdTLFvCt5I",
        "outputId": "f27b6d15-b82d-4338-d69d-5c1f996f5151"
      },
      "execution_count": null,
      "outputs": [
        {
          "output_type": "execute_result",
          "data": {
            "text/plain": [
              "[0.21081851067789195,\n",
              " 0.31622776601683794,\n",
              " 0.4216370213557839,\n",
              " 0.5270462766947299,\n",
              " 0.6324555320336759]"
            ]
          },
          "metadata": {},
          "execution_count": 7
        }
      ]
    },
    {
      "cell_type": "markdown",
      "source": [
        "#3.-Similitud de Cosenos"
      ],
      "metadata": {
        "id": "E3idWrTpCyJf"
      }
    },
    {
      "cell_type": "code",
      "source": [
        "# Calculamos el producto\n",
        "def internalProduct(tupla):\n",
        "  return tupla[0]*tupla[1]"
      ],
      "metadata": {
        "id": "QPany6Y8C2eQ"
      },
      "execution_count": null,
      "outputs": []
    },
    {
      "cell_type": "code",
      "source": [
        "# Calculo de la similitud de cosenos entre 2 vectores\n",
        "def cosineSimilarity(v1,v2, particiones=4):\n",
        "  \n",
        "  v3=list(zip( v1, v2))\n",
        "  # Creamos los RDD\n",
        "  RDD_1=sc.parallelize(v1,particiones)\n",
        "  RDD_2=sc.parallelize(v2,particiones)\n",
        "  RDD_3=sc.parallelize(v3,particiones)\n",
        "  # Calculamos el producto interno\n",
        "  sumInternalProductRDD=RDD_3.map(lambda x: internalProduct(x)).sum()\n",
        "  # Calculamos la norma de v1\n",
        "  normV1RDD= RDD_1.map(lambda x:x**2).sum()\n",
        "  # Calculamos la norma de v2\n",
        "  normV2RDD= RDD_2.map(lambda x:x**2).sum()\n",
        "  # calculo final\n",
        "  Similarity=(sumInternalProductRDD) / ( normV1RDD**(1/2) * normV2RDD**(1/2) )\n",
        "  return Similarity"
      ],
      "metadata": {
        "id": "O66wjXZgC6BP"
      },
      "execution_count": null,
      "outputs": []
    },
    {
      "cell_type": "markdown",
      "source": [
        "#Ejemplo del calculo de Similitud de Cosenos"
      ],
      "metadata": {
        "id": "JmCorUSvC95n"
      }
    },
    {
      "cell_type": "code",
      "source": [
        "v1=list(range(2,5))\n",
        "v2=list(range(6,9))\n",
        "# Usando Spark \n",
        "print(\"El valor de la similitud de cosenos es :\", cosineSimilarity(v1,v2))\n",
        "# Usando la libreria Scipy\n",
        "from scipy import spatial\n",
        "result = 1 - spatial.distance.cosine(v1, v2)\n",
        "print(\"El valor de la similitud de cosenos es :\", result)"
      ],
      "metadata": {
        "colab": {
          "base_uri": "https://localhost:8080/"
        },
        "id": "MCr-3tMzDA5n",
        "outputId": "5bc9ff8f-d660-4e1e-8af6-df7490b8b426"
      },
      "execution_count": null,
      "outputs": [
        {
          "output_type": "stream",
          "name": "stdout",
          "text": [
            "El valor de la similitud de cosenos es : 0.9888290654204228\n",
            "El valor de la similitud de cosenos es : 0.9888290654204228\n"
          ]
        }
      ]
    },
    {
      "cell_type": "markdown",
      "source": [
        "#4.-Escalonamiento"
      ],
      "metadata": {
        "id": "e5sn5b9hDIr4"
      }
    },
    {
      "cell_type": "code",
      "source": [
        "#Escalonamiento de un vector\n",
        "def escalonamiento(vector, particiones=4):\n",
        "\n",
        "  # Creamos el RDD\n",
        "  vectorRDD=sc.parallelize(vector,particiones) \n",
        "  # Hallamos el valor minimo\n",
        "  minVector=vectorRDD.min() \n",
        "  # Hallamos el valor máximo                    \n",
        "  maxVector=vectorRDD.max()                     \n",
        "  diferencia=maxVector-minVector                \n",
        "  escalomaniemtoRDD= vectorRDD.map(lambda x : (x - maxVector)/ diferencia )\n",
        "  # Recuperamos los valores\n",
        "  vectorEscalonado=escalomaniemtoRDD.collect() \n",
        "  return vectorEscalonado "
      ],
      "metadata": {
        "id": "9XyZrtQnDhNK"
      },
      "execution_count": 11,
      "outputs": []
    },
    {
      "cell_type": "markdown",
      "source": [
        "#Ejemplo de Escalonamiento"
      ],
      "metadata": {
        "id": "5jvDxPFvDiV5"
      }
    },
    {
      "cell_type": "code",
      "source": [
        "v1 = range(1,6)\n",
        "escalonamiento(v1,5)"
      ],
      "metadata": {
        "colab": {
          "base_uri": "https://localhost:8080/"
        },
        "id": "wkt-g2tlDlMB",
        "outputId": "91fe59f9-4623-4bbe-b675-92546c3153df"
      },
      "execution_count": 12,
      "outputs": [
        {
          "output_type": "execute_result",
          "data": {
            "text/plain": [
              "[-1.0, -0.75, -0.5, -0.25, 0.0]"
            ]
          },
          "metadata": {},
          "execution_count": 12
        }
      ]
    },
    {
      "cell_type": "markdown",
      "source": [
        "#5.-Estandarización"
      ],
      "metadata": {
        "id": "roi4uiRVDqCI"
      }
    },
    {
      "cell_type": "code",
      "source": [
        "#Estandarizacion de un vector\n",
        "def estandarizar(vector, particiones=4):\n",
        "  \n",
        "  # Creamos el RDD\n",
        "  vectorRDD=sc.parallelize(vector,particiones)\n",
        "  # Hallamos la media del vector\n",
        "  meanVector=vectorRDD.mean() \n",
        "  # Hallamos la desviacion estandar                  \n",
        "  dsVector=vectorRDD.stdev()                   \n",
        "  estandarizacionRDD= vectorRDD.map(lambda x : (x - meanVector)/ dsVector )\n",
        "  # Recuperamos los valores\n",
        "  vectorEstandarizado=estandarizacionRDD.collect()  \n",
        "  return vectorEstandarizado"
      ],
      "metadata": {
        "id": "GdobX8a8Dr8g"
      },
      "execution_count": 13,
      "outputs": []
    },
    {
      "cell_type": "markdown",
      "source": [
        "#Ejemplo de Estandarizacion"
      ],
      "metadata": {
        "id": "8fVjm9IpDus3"
      }
    },
    {
      "cell_type": "code",
      "source": [
        "v1 = range(2,7)\n",
        "estandarizar(v1,5)"
      ],
      "metadata": {
        "colab": {
          "base_uri": "https://localhost:8080/"
        },
        "id": "FUP8TKm_Dx94",
        "outputId": "dfad76ba-a73a-46c5-88dc-00b7c58fec40"
      },
      "execution_count": 14,
      "outputs": [
        {
          "output_type": "execute_result",
          "data": {
            "text/plain": [
              "[-1.414213562373095,\n",
              " -0.7071067811865475,\n",
              " 0.0,\n",
              " 0.7071067811865475,\n",
              " 1.414213562373095]"
            ]
          },
          "metadata": {},
          "execution_count": 14
        }
      ]
    }
  ]
}