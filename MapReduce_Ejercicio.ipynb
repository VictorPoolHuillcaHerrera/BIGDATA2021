{
  "nbformat": 4,
  "nbformat_minor": 0,
  "metadata": {
    "colab": {
      "name": "MapReduce_Ejercicio.ipynb",
      "provenance": []
    },
    "kernelspec": {
      "name": "python3",
      "display_name": "Python 3"
    },
    "language_info": {
      "name": "python"
    }
  },
  "cells": [
    {
      "cell_type": "markdown",
      "source": [
        "#**Area: Mineria de Datos**\n",
        "\n",
        "#**MapReduce**"
      ],
      "metadata": {
        "id": "y5BM05brFiNP"
      }
    },
    {
      "cell_type": "markdown",
      "source": [
        "#**Alumno: Huillca Herrera Victor Pool**\n",
        "\n",
        "#**Codigo: 163845**"
      ],
      "metadata": {
        "id": "Lv2EyQGyFh-i"
      }
    },
    {
      "cell_type": "markdown",
      "source": [
        "# Librerias necesarias para la ejecucion del programa"
      ],
      "metadata": {
        "id": "-XjtmrP_F7ZL"
      }
    },
    {
      "cell_type": "code",
      "execution_count": 1,
      "metadata": {
        "colab": {
          "base_uri": "https://localhost:8080/"
        },
        "id": "eO64-VEwFfSt",
        "outputId": "72082441-b5a6-44f7-fa16-d56cdd4f64ac"
      },
      "outputs": [
        {
          "output_type": "stream",
          "name": "stdout",
          "text": [
            "Collecting pyspark\n",
            "  Downloading pyspark-3.2.0.tar.gz (281.3 MB)\n",
            "\u001b[K     |████████████████████████████████| 281.3 MB 38 kB/s \n",
            "\u001b[?25hCollecting py4j==0.10.9.2\n",
            "  Downloading py4j-0.10.9.2-py2.py3-none-any.whl (198 kB)\n",
            "\u001b[K     |████████████████████████████████| 198 kB 55.2 MB/s \n",
            "\u001b[?25hBuilding wheels for collected packages: pyspark\n",
            "  Building wheel for pyspark (setup.py) ... \u001b[?25l\u001b[?25hdone\n",
            "  Created wheel for pyspark: filename=pyspark-3.2.0-py2.py3-none-any.whl size=281805912 sha256=9e58dbb78fd156067492648ae507bcff017d676682eb67f79aa5df314cb832c2\n",
            "  Stored in directory: /root/.cache/pip/wheels/0b/de/d2/9be5d59d7331c6c2a7c1b6d1a4f463ce107332b1ecd4e80718\n",
            "Successfully built pyspark\n",
            "Installing collected packages: py4j, pyspark\n",
            "Successfully installed py4j-0.10.9.2 pyspark-3.2.0\n"
          ]
        }
      ],
      "source": [
        "!pip install pyspark"
      ]
    },
    {
      "cell_type": "markdown",
      "source": [
        "Permitamos la manipulacion y creacion de RDDs"
      ],
      "metadata": {
        "id": "nCZu8X7VGI-u"
      }
    },
    {
      "cell_type": "code",
      "source": [
        "from pyspark import SparkContext\n",
        "sc =SparkContext()"
      ],
      "metadata": {
        "id": "MCyXX5mJGBcn"
      },
      "execution_count": 2,
      "outputs": []
    },
    {
      "cell_type": "code",
      "source": [
        "import math"
      ],
      "metadata": {
        "id": "95svWmGoGD4X"
      },
      "execution_count": 3,
      "outputs": []
    },
    {
      "cell_type": "markdown",
      "source": [
        "#1.-BagofWords"
      ],
      "metadata": {
        "id": "dJo0bqCjGQXH"
      }
    },
    {
      "cell_type": "markdown",
      "source": [
        "* Cambia la letras a minusculas\n",
        "* Filtra letra mayores a 2\n",
        "* Quita espacios en blanco"
      ],
      "metadata": {
        "id": "RA57Y4B9GbDm"
      }
    },
    {
      "cell_type": "code",
      "source": [
        "def bagofwords(Doc):\n",
        "    x=Doc.strip().lower().split()\n",
        "    return list(filter(lambda x:len(x)>2,x))\n",
        "Corpus=[\"La Informática es la rama de la Ingeniería que estudia el hardware\",  \n",
        "        \"las redes de datos y el software necesarios para tratar información de forma automática\"]\n",
        "Texto=sc.parallelize(Corpus,6)\n",
        "Texto=Texto.map(bagofwords)\n",
        "Texto.take(2)"
      ],
      "metadata": {
        "colab": {
          "base_uri": "https://localhost:8080/"
        },
        "id": "ED-VlpW0GT6H",
        "outputId": "9344a8b1-7894-406a-9a0a-001a52c7be79"
      },
      "execution_count": 4,
      "outputs": [
        {
          "output_type": "execute_result",
          "data": {
            "text/plain": [
              "[['informática', 'rama', 'ingeniería', 'que', 'estudia', 'hardware'],\n",
              " ['las',\n",
              "  'redes',\n",
              "  'datos',\n",
              "  'software',\n",
              "  'necesarios',\n",
              "  'para',\n",
              "  'tratar',\n",
              "  'información',\n",
              "  'forma',\n",
              "  'automática']]"
            ]
          },
          "metadata": {},
          "execution_count": 4
        }
      ]
    },
    {
      "cell_type": "markdown",
      "source": [
        "#2.-TF"
      ],
      "metadata": {
        "id": "lhO_tEbuGoze"
      }
    },
    {
      "cell_type": "code",
      "source": [
        "def TF(Doc):\n",
        "    total=len(Doc)#Obtenemos el total de palabras de doc\n",
        "    DocSR=list(set(Doc))#Lista sin repeticiones\n",
        "    mapeo=list(map(lambda x:(x,Doc.count(x)),DocSR))#Obtenemos el tf para cada palabra\n",
        "    tf=list(map(lambda x:(x[0],1+math.log10(x[1]/total)),mapeo))\n",
        "    return (tf)\n",
        "Corpus=[\"La Informática es la rama de la Ingeniería que estudia el hardware\",  \n",
        "        \"las redes de datos y el software necesarios para tratar información de forma automática\"]\n",
        "Texto=sc.parallelize(Corpus,4)\n",
        "Texto=Texto.map(bagofwords)\n",
        "TextoTF=Texto.map(TF)\n",
        "TextoTF.take(2)"
      ],
      "metadata": {
        "colab": {
          "base_uri": "https://localhost:8080/"
        },
        "id": "v5xICrZ9GrW9",
        "outputId": "0733b583-f87e-4aa5-b12e-0769074f2c44"
      },
      "execution_count": 5,
      "outputs": [
        {
          "output_type": "execute_result",
          "data": {
            "text/plain": [
              "[[('que', 0.22184874961635637),\n",
              "  ('ingeniería', 0.22184874961635637),\n",
              "  ('rama', 0.22184874961635637),\n",
              "  ('estudia', 0.22184874961635637),\n",
              "  ('informática', 0.22184874961635637),\n",
              "  ('hardware', 0.22184874961635637)],\n",
              " [('automática', 0.0),\n",
              "  ('las', 0.0),\n",
              "  ('redes', 0.0),\n",
              "  ('tratar', 0.0),\n",
              "  ('software', 0.0),\n",
              "  ('datos', 0.0),\n",
              "  ('para', 0.0),\n",
              "  ('necesarios', 0.0),\n",
              "  ('forma', 0.0),\n",
              "  ('información', 0.0)]]"
            ]
          },
          "metadata": {},
          "execution_count": 5
        }
      ]
    },
    {
      "cell_type": "markdown",
      "source": [
        "#3.IDF"
      ],
      "metadata": {
        "id": "WFG0g3kGG7Zf"
      }
    },
    {
      "cell_type": "code",
      "source": [
        "def IDF(Doc,corpus):\n",
        "    DocP=Doc.flatMap(lambda x:x)\n",
        "    DocP=DocP.map(lambda x:x[0]).distinct()\n",
        "    total=corpus.count() #Total documentos en corpus\n",
        "    corpus2=corpus.collect()\n",
        "    IDF=DocP.map(lambda x:list(map(lambda y:(x,1 if x in y else 0),corpus2)))#Extraer cantida de veces de cada palabra en los documentos\n",
        "    IDF2=IDF.flatMap(lambda x:x)\n",
        "    IDF2=IDF2.groupByKey().map(lambda x:(x[0],sum(x[1])))\n",
        "    IDF2=IDF2.map(lambda x:(x[0],math.log10(1+total/x[1])))\n",
        "    return IDF2 #corpus con IDF de cada palabra sin repeticiones\n",
        "    Corpus=[\"La Informática es la rama de la Ingeniería que estudia el hardware\",  \n",
        "        \"las redes de datos y el software necesarios para tratar información de forma automática\"]\n",
        "Texto=sc.parallelize(Corpus,4)\n",
        "Texto=Texto.map(bagofwords)\n",
        "TextoTF=Texto.map(TF)\n",
        "TextoIDF=IDF(TextoTF,Texto)\n",
        "TextoIDF.collect()"
      ],
      "metadata": {
        "colab": {
          "base_uri": "https://localhost:8080/"
        },
        "id": "FnoKs2AIGxY-",
        "outputId": "3397014d-ebeb-4209-9e25-a5b6d0451bce"
      },
      "execution_count": 6,
      "outputs": [
        {
          "output_type": "execute_result",
          "data": {
            "text/plain": [
              "[('informática', 0.47712125471966244),\n",
              " ('hardware', 0.47712125471966244),\n",
              " ('automática', 0.47712125471966244),\n",
              " ('tratar', 0.47712125471966244),\n",
              " ('datos', 0.47712125471966244),\n",
              " ('necesarios', 0.47712125471966244),\n",
              " ('las', 0.47712125471966244),\n",
              " ('redes', 0.47712125471966244),\n",
              " ('software', 0.47712125471966244),\n",
              " ('forma', 0.47712125471966244),\n",
              " ('que', 0.47712125471966244),\n",
              " ('ingeniería', 0.47712125471966244),\n",
              " ('rama', 0.47712125471966244),\n",
              " ('para', 0.47712125471966244),\n",
              " ('estudia', 0.47712125471966244),\n",
              " ('información', 0.47712125471966244)]"
            ]
          },
          "metadata": {},
          "execution_count": 6
        }
      ]
    },
    {
      "cell_type": "markdown",
      "source": [
        "#4.- TF-IDF"
      ],
      "metadata": {
        "id": "b1vbBYvhHEF2"
      }
    },
    {
      "cell_type": "code",
      "source": [
        "def RecIDF(word,corpusIDF):\n",
        "        L=corpusIDF\n",
        "        EL=list(filter(lambda x:x[0]==word,L))\n",
        "        return EL[0][1]\n",
        "def TF_IDF(TextoTF,TextoIDF):\n",
        "    corpusIDF=TextoIDF.collect()\n",
        "    TFIDF=TextoTF.map(lambda x:list(map((lambda y:(y[0],y[1]*RecIDF(y[0],corpusIDF))),x)))\n",
        "    return  TFIDF #texto con el TFIDF de cada palabra en DOC\n",
        "Corpus=[\"La Informática es la rama de la Ingeniería que estudia el hardware\",  \n",
        "        \"las redes de datos y el software necesarios para tratar información de forma automática\"]\n",
        "Texto=sc.parallelize(Corpus,4)\n",
        "Texto=Texto.map(bagofwords)\n",
        "TextoTF=Texto.map(TF)\n",
        "TextoIDF=IDF(TextoTF,Texto)\n",
        "TextoTFIDF=TF_IDF(TextoTF,TextoIDF)\n",
        "TextoTFIDF.collect()"
      ],
      "metadata": {
        "colab": {
          "base_uri": "https://localhost:8080/"
        },
        "id": "tfgVsS6dG6bG",
        "outputId": "2aefadd1-8b5b-4f66-82de-bd66356b71d8"
      },
      "execution_count": 7,
      "outputs": [
        {
          "output_type": "execute_result",
          "data": {
            "text/plain": [
              "[[('que', 0.10584875377494418),\n",
              "  ('ingeniería', 0.10584875377494418),\n",
              "  ('rama', 0.10584875377494418),\n",
              "  ('estudia', 0.10584875377494418),\n",
              "  ('informática', 0.10584875377494418),\n",
              "  ('hardware', 0.10584875377494418)],\n",
              " [('automática', 0.0),\n",
              "  ('las', 0.0),\n",
              "  ('redes', 0.0),\n",
              "  ('tratar', 0.0),\n",
              "  ('software', 0.0),\n",
              "  ('datos', 0.0),\n",
              "  ('para', 0.0),\n",
              "  ('necesarios', 0.0),\n",
              "  ('forma', 0.0),\n",
              "  ('información', 0.0)]]"
            ]
          },
          "metadata": {},
          "execution_count": 7
        }
      ]
    }
  ]
}